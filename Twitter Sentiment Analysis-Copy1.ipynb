{
 "cells": [
  {
   "cell_type": "code",
   "execution_count": 9,
   "metadata": {},
   "outputs": [
    {
     "name": "stdout",
     "output_type": "stream",
     "text": [
      "RT @kenolin1: So basically Trump went to France to tweet. It boggles the mind.\n",
      "Sentiment(polarity=0.0, subjectivity=0.0)\n",
      "RT @ericgarland: The answer to everything regarding Trump is, \"Yes, he's a Mobster owned by a foreign power tasked with treason.\" Simple as.\n",
      "Sentiment(polarity=-0.0625, subjectivity=0.24107142857142858)\n",
      "RT @DemWrite: “It’s incredible that a president would travel to France for this anniversary &amp; then remain in his hotel room watching TV rat…\n",
      "Sentiment(polarity=0.9, subjectivity=0.9)\n",
      "RT @keithboykin: While Trump had you focused\n",
      "on a caravan of immigrants\n",
      "\n",
      "an American\n",
      "killed 12 people in a a bar\n",
      "\n",
      "an American\n",
      "killed 11 peo…\n",
      "Sentiment(polarity=-0.1, subjectivity=0.0)\n",
      "RT @Susan_Hennessey: I've been pondering this. If the central point of removing Sessions and installing Whitaker is to impede the Mueller i…\n",
      "Sentiment(polarity=0.0, subjectivity=0.25)\n",
      "@AmyAtrebas @NSoames @realDonaldTrump He looks so young..so tired. We're so embarrassed,  please don't think all Am… https://t.co/4pW1EeH6pk\n",
      "Sentiment(polarity=-0.4, subjectivity=0.7)\n",
      "RT @PattyArquette: Maybe Trump would like to see what would happen if California threatened to withhold out federal taxes- https://t.co/WdF…\n",
      "Sentiment(polarity=0.0, subjectivity=0.0)\n",
      "RT @goldengateblond: It's hard to be the dumbest guy on a platform that includes Donald Trump but here we are. https://t.co/CBwd7n0IpA\n",
      "Sentiment(polarity=-0.2916666666666667, subjectivity=0.5416666666666666)\n",
      "RT @activist360: The most depraved and corrupt president in American history, reality TV con-man Trump is in deep sh*t: Democrats are not o…\n",
      "Sentiment(polarity=0.0, subjectivity=0.475)\n",
      "RT @pschoep: @DiamondandSilk Michelle needs to grow up and remember where the birther thing came from.....Blumenthal....dah but of course l…\n",
      "Sentiment(polarity=0.0, subjectivity=0.0)\n",
      "@peddapuli5 Sivaji gadu us lo trump ni dimpataniki planning anta..dani gurinchi adugu\n",
      "Sentiment(polarity=0.0, subjectivity=0.0)\n",
      "RT @jdelreal: In an absolutely scathing statement, California Professional Firefighters President Brian Rice blasts President Trump’s comme…\n",
      "Sentiment(polarity=-0.25, subjectivity=0.55)\n",
      "RT @ida_skibenes: So Trump is not attending the summit tomorrow, and not visiting the cemetery today. And we all know he would never enjoy…\n",
      "Sentiment(polarity=0.0, subjectivity=0.0)\n",
      "RT @thehill: Rihanna's music publisher removes her music from Trump campaign license  https://t.co/hFsbXGj1cy https://t.co/fRTTLSbPn5\n",
      "Sentiment(polarity=0.0, subjectivity=0.0)\n",
      "@TLMhypocrisy @chrisscottsharp @cosommc @Teacake77 @yeschrisyes @marcorubio Bush Sr. voted for Clinton, the others… https://t.co/IIJc47NkYT\n",
      "Sentiment(polarity=0.0, subjectivity=0.0)\n"
     ]
    }
   ],
   "source": [
    "import tweepy\n",
    "from textblob import TextBlob\n",
    "\n",
    "consumer_key='CONSUMER_KEY_HERE'\n",
    "consumer_secret='CONSUMER_SECRET_KEY_HERE'\n",
    "\n",
    "access_token='ACCESS_TOKEN_HERE'\n",
    "access_token_secret='ACCESS_TOKEN_SECRET_HERE'\n",
    "\n",
    "auth=tweepy.OAuthHandler(consumer_key, consumer_secret)\n",
    "auth.set_access_token(access_token, access_token_secret)\n",
    "\n",
    "api=tweepy.API(auth)\n",
    "\n",
    "public_tweets=api.search('Trump')\n",
    "\n",
    "for tweet in public_tweets:\n",
    "    print(tweet.text)\n",
    "    analysis= TextBlob(tweet.text)\n",
    "    print(analysis.sentiment)"
   ]
  },
  {
   "cell_type": "code",
   "execution_count": null,
   "metadata": {
    "collapsed": true
   },
   "outputs": [],
   "source": []
  }
 ],
 "metadata": {
  "kernelspec": {
   "display_name": "Python 3",
   "language": "python",
   "name": "python3"
  },
  "language_info": {
   "codemirror_mode": {
    "name": "ipython",
    "version": 3
   },
   "file_extension": ".py",
   "mimetype": "text/x-python",
   "name": "python",
   "nbconvert_exporter": "python",
   "pygments_lexer": "ipython3",
   "version": "3.6.2"
  }
 },
 "nbformat": 4,
 "nbformat_minor": 2
}
